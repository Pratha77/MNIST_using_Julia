{
 "cells": [
  {
   "cell_type": "markdown",
   "id": "82ee70b8-3f4d-455e-82da-ec3b89f2ad68",
   "metadata": {},
   "source": [
    "# MNIST Example"
   ]
  },
  {
   "cell_type": "code",
   "execution_count": null,
   "id": "a335065d-aee0-45d8-88dc-36b6a7fdcab9",
   "metadata": {},
   "outputs": [],
   "source": [
    "using Random\n",
    "Random.seed!(1234);  # For experiment reproducibility. Can set this to any value. "
   ]
  },
  {
   "cell_type": "code",
   "execution_count": null,
   "id": "1171a333-b70d-4b23-bfa2-dc77351ea4c8",
   "metadata": {},
   "outputs": [],
   "source": [
    "import Pkg"
   ]
  },
  {
   "cell_type": "code",
   "execution_count": null,
   "id": "c686ce2a-b8aa-4ffc-aefb-da8cd8ab381e",
   "metadata": {},
   "outputs": [],
   "source": [
    "Pkg.add(\"Flux\")\n",
    "Pkg.add(\"MLDatasets\")"
   ]
  },
  {
   "cell_type": "code",
   "execution_count": null,
   "id": "234e1891-761b-47f1-975b-d8c98347e3b6",
   "metadata": {},
   "outputs": [],
   "source": [
    "Pkg.add(\"ImageCore\")"
   ]
  },
  {
   "cell_type": "code",
   "execution_count": null,
   "id": "4bbb35ea-b560-4819-b20e-d8f1f94711cd",
   "metadata": {},
   "outputs": [],
   "source": [
    "using Flux"
   ]
  },
  {
   "cell_type": "code",
   "execution_count": null,
   "id": "095c37c8-30d5-4508-b699-55f1ca711da9",
   "metadata": {},
   "outputs": [],
   "source": [
    "using Flux, Statistics \n",
    "using MLDatasets: MNIST\n",
    "using Flux: onehotbatch"
   ]
  },
  {
   "cell_type": "code",
   "execution_count": null,
   "id": "a5eed41b-cfb3-4d09-9c27-30c98db260a0",
   "metadata": {},
   "outputs": [],
   "source": [
    "imgs = MNIST.images\n",
    "typeof(imgs)"
   ]
  },
  {
   "cell_type": "code",
   "execution_count": null,
   "id": "b3d922dd-f74d-4c78-b60a-35ce0566517b",
   "metadata": {},
   "outputs": [],
   "source": [
    "using Flux: params"
   ]
  },
  {
   "cell_type": "markdown",
   "id": "7e326637-cae0-493a-90ab-b80a97b83839",
   "metadata": {},
   "source": [
    "Let's dissect that a bit ..."
   ]
  },
  {
   "cell_type": "code",
   "execution_count": null,
   "id": "f8051ced-f1b9-472f-8eae-3571e47cec07",
   "metadata": {},
   "outputs": [],
   "source": [
    "using Plots "
   ]
  },
  {
   "cell_type": "code",
   "execution_count": null,
   "id": "e80baa35-d910-41c7-a330-88a8197fbf40",
   "metadata": {},
   "outputs": [],
   "source": [
    "Plots.scatter(imgs[1], size = (200, 200))  # Julia plots just 'knows' that this is suitable as an image"
   ]
  },
  {
   "cell_type": "code",
   "execution_count": null,
   "id": "5bf00aaa-1e6b-4f58-890c-141df416fa46",
   "metadata": {},
   "outputs": [],
   "source": [
    "@show size(imgs)     \n",
    "@show size(imgs[1]) ;"
   ]
  },
  {
   "cell_type": "markdown",
   "id": "0525a72c-ead5-4e3e-8f4f-0e5df8c88685",
   "metadata": {},
   "source": [
    "## Loading and Encoding Labels"
   ]
  },
  {
   "cell_type": "code",
   "execution_count": null,
   "id": "06614fb3-e106-4380-b0ab-5729a131aada",
   "metadata": {},
   "outputs": [],
   "source": [
    "labels = MNIST.labels();"
   ]
  },
  {
   "cell_type": "code",
   "execution_count": null,
   "id": "6647db1d-0f75-415b-bff2-274307302c0f",
   "metadata": {},
   "outputs": [],
   "source": [
    "labels[1:5]"
   ]
  },
  {
   "cell_type": "code",
   "execution_count": null,
   "id": "e4427299-50e6-4b7c-8219-5651bc9840c6",
   "metadata": {},
   "outputs": [],
   "source": [
    "@show size(labels)"
   ]
  },
  {
   "cell_type": "code",
   "execution_count": null,
   "id": "a638c3c0-acd4-4b93-91ed-970ef7afe3dd",
   "metadata": {},
   "outputs": [],
   "source": [
    "labels = onehotbatch(MNIST.labels(), 0:9)    # convert to one-hot encoding \n",
    "labels[:, 1:5]  # show first five labels "
   ]
  },
  {
   "cell_type": "code",
   "execution_count": null,
   "id": "eb5dcd24-35a8-42a1-8dd2-60a2b9775a55",
   "metadata": {},
   "outputs": [],
   "source": [
    "@show size(labels);"
   ]
  },
  {
   "cell_type": "markdown",
   "id": "96574f0c-a935-4817-9732-7c66638c8090",
   "metadata": {},
   "source": [
    "## Creating Batches and Preparing Data"
   ]
  },
  {
   "cell_type": "markdown",
   "id": "ca7dc061-96e4-428c-b0e3-28fea072b554",
   "metadata": {},
   "source": [
    "We can use the parition function in Julia base library to create batches. This way, we can easily manage the memory and speed trade-off."
   ]
  },
  {
   "cell_type": "code",
   "execution_count": null,
   "id": "178e1b2b-ba73-4251-a242-c7e9250db6d2",
   "metadata": {},
   "outputs": [],
   "source": [
    "using Base.Iterators: partition"
   ]
  },
  {
   "cell_type": "code",
   "execution_count": null,
   "id": "5e580644-e5fb-4e88-bd85-68a7b11e8eaa",
   "metadata": {},
   "outputs": [],
   "source": [
    "for i in partition(1:10, 5)    # create equal partitions of size 2 \n",
    "    println(i)\n",
    "end"
   ]
  },
  {
   "cell_type": "markdown",
   "id": "23a83553-1497-4765-8497-525728dacc1f",
   "metadata": {},
   "source": [
    "Let's reshape the \"Gray Scale\" 28x28 to a float32. That's going to take a bit of effort."
   ]
  },
  {
   "cell_type": "code",
   "execution_count": null,
   "id": "b3df253d-6c44-440d-ab0a-4dbe4e7e536e",
   "metadata": {},
   "outputs": [],
   "source": [
    "imgs[1]"
   ]
  },
  {
   "cell_type": "code",
   "execution_count": null,
   "id": "845d0df2-319f-4be8-b692-854648075526",
   "metadata": {},
   "outputs": [],
   "source": [
    "typeof(imgs[1][1])   # this needs to be converted to float "
   ]
  },
  {
   "cell_type": "code",
   "execution_count": null,
   "id": "ac1bb9c7-d4f9-499a-a8c4-4196089b540c",
   "metadata": {},
   "outputs": [],
   "source": [
    "typeof(imgs)"
   ]
  },
  {
   "cell_type": "code",
   "execution_count": null,
   "id": "dda6e0de-2337-4975-be9b-0353fbc7ba47",
   "metadata": {},
   "outputs": [],
   "source": [
    "typeof(float.(imgs))"
   ]
  },
  {
   "cell_type": "code",
   "execution_count": null,
   "id": "a3309e4b-a831-4e5b-8031-5ede5dd2c33c",
   "metadata": {},
   "outputs": [],
   "source": [
    "imgs = convert(Array{Array{   Float32    , 2}, 1}, float.(imgs));    # hack needed to convert everything to Float32"
   ]
  },
  {
   "cell_type": "code",
   "execution_count": null,
   "id": "fa203523-0fab-4089-930c-47af76d0d342",
   "metadata": {},
   "outputs": [],
   "source": [
    "size(imgs[1])"
   ]
  },
  {
   "cell_type": "code",
   "execution_count": null,
   "id": "8bb8b0aa-1691-4df7-b11d-b7c42f0f43fd",
   "metadata": {},
   "outputs": [],
   "source": [
    "typeof(imgs)"
   ]
  },
  {
   "cell_type": "markdown",
   "id": "153bbd7d-aca7-4fdc-a637-5a5fb08d9297",
   "metadata": {},
   "source": [
    "Let's make sure our model can handle more than one \"channels\" (for future proofing it.)"
   ]
  },
  {
   "cell_type": "code",
   "execution_count": null,
   "id": "6166fc7d-2727-4190-b0b1-2ca984a825b0",
   "metadata": {},
   "outputs": [],
   "source": [
    "t = (cat(imgs[1:2]..., dims = 4),   labels[:,1:2]);"
   ]
  },
  {
   "cell_type": "code",
   "execution_count": null,
   "id": "fc5c867a-8e41-492a-a0e3-bc1b39f2edcb",
   "metadata": {},
   "outputs": [],
   "source": [
    "t[1]"
   ]
  },
  {
   "cell_type": "code",
   "execution_count": null,
   "id": "9bce1729-8fde-4b93-b99f-50c3877392c2",
   "metadata": {},
   "outputs": [],
   "source": [
    "batch_size = 1000;"
   ]
  },
  {
   "cell_type": "code",
   "execution_count": null,
   "id": "82108fba-f622-47c3-9755-4229dadfb2c5",
   "metadata": {},
   "outputs": [],
   "source": [
    "train = [ \n",
    "          (cat(imgs[i]..., dims = 4),   labels[:,i])\n",
    "            for i in partition(1:60_000, batch_size)\n",
    "        ]\n",
    ";"
   ]
  },
  {
   "cell_type": "code",
   "execution_count": null,
   "id": "ca5b8cf8-3529-4dc0-bc3c-3fe2e1ee26b3",
   "metadata": {},
   "outputs": [],
   "source": [
    "@show size(train)\n",
    "@show length(train[1])\n",
    "@show size(train[1][1]);\n",
    "@show size(train[1][2]);"
   ]
  },
  {
   "cell_type": "markdown",
   "id": "72b55a7e-305a-407b-8f51-b1c6585f8490",
   "metadata": {},
   "source": [
    "## Prepare Test Data"
   ]
  },
  {
   "cell_type": "code",
   "execution_count": null,
   "id": "9107727a-a224-4d91-88b8-e8b1f9900843",
   "metadata": {},
   "outputs": [],
   "source": [
    "test_images = MNIST.images(:test)[1:1000];"
   ]
  },
  {
   "cell_type": "code",
   "execution_count": null,
   "id": "9a442d76-a1e1-40b5-b228-703f9c6c59ea",
   "metadata": {},
   "outputs": [],
   "source": [
    "test_images = float.(test_images);"
   ]
  },
  {
   "cell_type": "code",
   "execution_count": null,
   "id": "3f0eeeb7-9ae1-4702-8791-f5eecad6f272",
   "metadata": {},
   "outputs": [],
   "source": [
    "typeof(test_images)"
   ]
  },
  {
   "cell_type": "code",
   "execution_count": null,
   "id": "31bef521-975d-4ea1-a19d-ce3f6c1055d9",
   "metadata": {},
   "outputs": [],
   "source": [
    "test_images = convert(Array{Array{Float32, 2}, 1}, test_images);"
   ]
  },
  {
   "cell_type": "code",
   "execution_count": null,
   "id": "f91f0e08-5c3b-4c6f-8909-ee0ddb9ae99b",
   "metadata": {},
   "outputs": [],
   "source": [
    "typeof(test_images)"
   ]
  },
  {
   "cell_type": "code",
   "execution_count": null,
   "id": "85210dba-1cc1-4978-b716-f41294581cb0",
   "metadata": {},
   "outputs": [],
   "source": [
    "# we have just a single batch for testing \n",
    "tX = cat(test_images..., dims = 4);\n",
    "tY = onehotbatch(MNIST.labels(:test)[1:1000], 0:9);"
   ]
  },
  {
   "cell_type": "code",
   "execution_count": null,
   "id": "8c52670c-e5a8-448d-901b-7f93b766286c",
   "metadata": {},
   "outputs": [],
   "source": [
    "@show size(tX)\n",
    "@show size(tY);"
   ]
  },
  {
   "cell_type": "markdown",
   "id": "04d66f3e-1e17-4a57-a3d3-bd9f70abb4b9",
   "metadata": {},
   "source": [
    "## The Actual CNN Model"
   ]
  },
  {
   "cell_type": "code",
   "execution_count": null,
   "id": "2fad588f-ae8a-4ea0-b52f-c3d648728141",
   "metadata": {},
   "outputs": [],
   "source": [
    "model = Chain(\n",
    "  Conv((3,3), 1=>16, relu),\n",
    "  MaxPool((2,2)),\n",
    "  Conv((3,3), 16=>8, relu),\n",
    "  MaxPool((2,2)),\n",
    "  flatten,\n",
    "  Dense(200, 10),\n",
    "  softmax)"
   ]
  },
  {
   "cell_type": "code",
   "execution_count": null,
   "id": "6372a06c-ce33-4720-a6ca-dcfb06ab8d05",
   "metadata": {},
   "outputs": [],
   "source": [
    "using Flux: onecold, crossentropy, throttle"
   ]
  },
  {
   "cell_type": "code",
   "execution_count": null,
   "id": "2495669a-77b3-4d97-99e1-d388c37cb12a",
   "metadata": {},
   "outputs": [],
   "source": [
    "m = model "
   ]
  },
  {
   "cell_type": "code",
   "execution_count": null,
   "id": "eeeae89a-ee4e-4c1f-af55-ce44722d130e",
   "metadata": {},
   "outputs": [],
   "source": [
    "opt = ADAM()\n",
    "# opt = Descent() \n",
    "# opt = Momentum()\n",
    "# opt = Nesterov()\n",
    "# opt = NADAM() "
   ]
  },
  {
   "cell_type": "code",
   "execution_count": null,
   "id": "f5a2fdd5-c019-48eb-b6d6-ddca476253af",
   "metadata": {},
   "outputs": [],
   "source": [
    "accuracy(x, y) = mean(onecold(m(x)) .== onecold(y))      # onecold is the inverse operation to one-hot"
   ]
  },
  {
   "cell_type": "code",
   "execution_count": null,
   "id": "de8a5ee6-24c2-435c-9e3a-fac5385a25f6",
   "metadata": {},
   "outputs": [],
   "source": [
    "loss(x, y) = Flux.Losses.crossentropy(m(x), y)"
   ]
  },
  {
   "cell_type": "code",
   "execution_count": null,
   "id": "0d3b3c71-6f34-470a-8b2b-d4df38b9dca6",
   "metadata": {},
   "outputs": [],
   "source": [
    "evalcb = throttle(  () -> @show(accuracy(tX, tY)),    10)"
   ]
  },
  {
   "cell_type": "code",
   "execution_count": null,
   "id": "d1241e58-86e8-4c94-96f2-cc58e916f661",
   "metadata": {},
   "outputs": [],
   "source": [
    "Flux.train!(loss, params(m), train, opt, cb = evalcb)"
   ]
  },
  {
   "cell_type": "markdown",
   "id": "35b1a25e-4b78-44a0-9c87-e41ca804ddb2",
   "metadata": {},
   "source": [
    "## Let's See Some Clean Code"
   ]
  },
  {
   "cell_type": "code",
   "execution_count": null,
   "id": "90472280-ac9a-48b3-b2e9-acbb113b3b72",
   "metadata": {},
   "outputs": [],
   "source": [
    "using Flux, Statistics \n",
    "using Flux.Data.MNIST\n",
    "using Flux: onehotbatch\n",
    "using Base.Iterators: partition\n",
    "using Flux: onecold, crossentropy, throttle\n",
    "\n",
    "function get_training_test_data(batch_size=1000) \n",
    "    # load and fix train data \n",
    "    train_labels = onehotbatch(MNIST.labels(), 0:9) \n",
    "    \n",
    "    # label and imgs are combined for training \n",
    "    imgs = MNIST.images()\n",
    "    imgs = convert(Array{Array{Float32, 2}, 1}, float.(imgs));    # hack needed to convert everything to Float32\n",
    "    train = [ (cat(imgs[i]..., dims = 4),   train_labels[:,i])\n",
    "               for i in partition(1:60_000, batch_size)  ]\n",
    "    \n",
    "    # test images and labels sent separately \n",
    "    test_imgs = MNIST.images(:test)[1:1000];\n",
    "    test_imgs = convert(Array{Array{Float32, 2}, 1}, float.(test_imgs));\n",
    "    test_imgs = cat(test_imgs..., dims = 4);\n",
    "    test_labels = onehotbatch(MNIST.labels(:test)[1:1000], 0:9);\n",
    "    \n",
    "    return (train, test_imgs, test_labels)\n",
    "    \n",
    "end\n",
    "\n",
    "function build_model()\n",
    "    model = Chain(\n",
    "        Conv((3,3), 1=>16, relu),\n",
    "        MaxPool((2,2)),\n",
    "        Conv((3,3), 16=>8, relu),\n",
    "        MaxPool((2,2)),\n",
    "        flatten,\n",
    "        Dense(200, 10),\n",
    "        softmax\n",
    "    )\n",
    "end \n",
    "\n",
    "function train_model!(; iterations=1, opt = ADAM())\n",
    "    m = build_model() \n",
    "    \n",
    "    train, tX, tY =  get_training_test_data()\n",
    "    loss(x, y) = Flux.Losses.crossentropy(m(x), y)\n",
    "    \n",
    "    accuracy(x, y) = mean(onecold(m(x)) .== onecold(y))     \n",
    "    evalcb = throttle(() -> @show(accuracy(tX, tY)), 10)\n",
    "    \n",
    "    for i in 1:iterations\n",
    "        Flux.train!(loss, params(m), train, opt, cb = evalcb)\n",
    "    end \n",
    "end "
   ]
  },
  {
   "cell_type": "code",
   "execution_count": null,
   "id": "f07f5c66-0bcb-44ff-a776-197caa147ff5",
   "metadata": {},
   "outputs": [],
   "source": [
    "train_model!(iterations=3, opt=ADAM())"
   ]
  },
  {
   "cell_type": "code",
   "execution_count": null,
   "id": "f29f4ac3-c6f6-4106-be90-71d1b2b3bcb2",
   "metadata": {},
   "outputs": [],
   "source": [
    "train_model!(iterations=3, opt=NADAM())"
   ]
  },
  {
   "cell_type": "code",
   "execution_count": null,
   "id": "868304bf-abb1-4981-aad8-48ae7d137c3b",
   "metadata": {},
   "outputs": [],
   "source": [
    "train_model!(iterations=3, opt=RADAM())"
   ]
  },
  {
   "cell_type": "code",
   "execution_count": null,
   "id": "adbb129b-207d-47dc-874e-cfae39432f2f",
   "metadata": {},
   "outputs": [],
   "source": [
    "train_model!(iterations=3, opt=Descent())"
   ]
  },
  {
   "cell_type": "code",
   "execution_count": null,
   "id": "b512177d-f878-41f7-85a4-4dd4318adbd0",
   "metadata": {},
   "outputs": [],
   "source": [
    "train_model!(iterations=3, opt=Descent(0.4))"
   ]
  },
  {
   "cell_type": "markdown",
   "id": "8bbf9064-55f1-408c-abc5-5448799b99fa",
   "metadata": {},
   "source": [
    "More optimizers and options here: https://fluxml.ai/Flux.jl/stable/training/optimisers/"
   ]
  },
  {
   "cell_type": "code",
   "execution_count": null,
   "id": "72214d2c-3746-4902-8ed0-5bf52b59d48c",
   "metadata": {},
   "outputs": [],
   "source": [
    "    "
   ]
  }
 ],
 "metadata": {
  "kernelspec": {
   "display_name": "Julia 1.9.4",
   "language": "julia",
   "name": "julia-1.9"
  },
  "language_info": {
   "file_extension": ".jl",
   "mimetype": "application/julia",
   "name": "julia",
   "version": "1.9.4"
  }
 },
 "nbformat": 4,
 "nbformat_minor": 5
}
